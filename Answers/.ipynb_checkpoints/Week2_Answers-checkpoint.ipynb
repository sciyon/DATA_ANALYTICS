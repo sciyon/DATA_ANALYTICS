{
 "cells": [
  {
   "cell_type": "markdown",
   "id": "9438fb0f",
   "metadata": {},
   "source": [
    "# Erwin Antepuesto"
   ]
  },
  {
   "cell_type": "markdown",
   "id": "acd004d4",
   "metadata": {},
   "source": [
    "Data: https://archive.ics.uci.edu.\n",
    "\n",
    "Instruction: Choose a dataset and perform a data storytelling, choose the proper data visualization, do not use words, your graphs must tell a story."
   ]
  },
  {
   "cell_type": "markdown",
   "id": "eb5dc256",
   "metadata": {},
   "source": [
    "Dataset: Air Quality\n",
    "\n",
    "Link: https://archive.ics.uci.edu/dataset/360/air+quality"
   ]
  },
  {
   "cell_type": "code",
   "execution_count": null,
   "id": "37af58ec",
   "metadata": {},
   "outputs": [],
   "source": [
    "import pandas as pd\n",
    "import matplotlib.pyplot as plt\n",
    "import seaborn as sns\n",
    "\n",
    "# Load the dataset\n",
    "df = pd.read_csv('AirQualityUCI.csv', sep=';', parse_dates=[['Date', 'Time']], index_col='Date_Time')\n",
    "\n",
    "# Ensure the columns are numeric and handle missing values\n",
    "for column in ['CO(GT)', 'NMHC(GT)', 'NOx(GT)', 'NO2(GT)']:\n",
    "    df[column] = pd.to_numeric(df[column], errors='coerce')\n"
   ]
  },
  {
   "cell_type": "code",
   "execution_count": null,
   "id": "939945a0",
   "metadata": {},
   "outputs": [],
   "source": [
    "# Time Series Plot of Gas Concentrations\n",
    "plt.figure(figsize=(14, 6))\n",
    "for column in ['CO(GT)', 'NMHC(GT)', 'NOx(GT)', 'NO2(GT)']:\n",
    "    plt.plot(df[column].dropna(), label=column)  # Drop NA values before plotting\n",
    "plt.title('Gas Concentrations Over Time')\n",
    "plt.xlabel('Time')\n",
    "plt.ylabel('Concentration')\n",
    "plt.legend()\n",
    "plt.show()"
   ]
  },
  {
   "cell_type": "code",
   "execution_count": null,
   "id": "70b45631",
   "metadata": {},
   "outputs": [],
   "source": [
    "\n",
    "# Correlation Heatmap\n",
    "plt.figure(figsize=(10, 8))\n",
    "sns.heatmap(df[['CO(GT)', 'NMHC(GT)', 'NOx(GT)', 'NO2(GT)']].corr(), annot=True, cmap='coolwarm')\n",
    "plt.title('Correlation Heatmap')\n",
    "plt.show()\n",
    "\n"
   ]
  },
  {
   "cell_type": "code",
   "execution_count": null,
   "id": "c609b04b",
   "metadata": {},
   "outputs": [],
   "source": [
    "\n",
    "# Scatter Plot Matrix\n",
    "sns.pairplot(df[['CO(GT)', 'NMHC(GT)', 'NOx(GT)', 'NO2(GT)']].dropna())\n",
    "plt.title('Scatter Plot Matrix')\n",
    "plt.show()\n"
   ]
  },
  {
   "cell_type": "code",
   "execution_count": null,
   "id": "f7d67bf2",
   "metadata": {},
   "outputs": [],
   "source": [
    "# Box Plots for Seasonal Variations\n",
    "df['Season'] = df.index.month%12 // 3 + 1\n",
    "seasons = {1: 'Winter', 2: 'Spring', 3: 'Summer', 4: 'Autumn'}\n",
    "df['Season'] = df['Season'].map(seasons)\n",
    "for column in ['CO(GT)', 'NMHC(GT)', 'NOx(GT)', 'NO2(GT)']:\n",
    "    plt.figure(figsize=(10, 6))\n",
    "    sns.boxplot(x='Season', y=column, data=df.dropna(subset=[column]))  # Drop NA values for the specific column\n",
    "    plt.title(f'{column} Seasonal Variations')\n",
    "    plt.show()"
   ]
  },
  {
   "cell_type": "code",
   "execution_count": null,
   "id": "b98fce11",
   "metadata": {},
   "outputs": [],
   "source": [
    "\n",
    "# Heatmap of Daily Patterns\n",
    "df['Hour'] = df.index.hour\n",
    "daily_patterns = df.groupby('Hour')[['CO(GT)', 'NMHC(GT)', 'NOx(GT)', 'NO2(GT)']].mean()\n",
    "plt.figure(figsize=(10, 6))\n",
    "sns.heatmap(daily_patterns, cmap='YlGnBu')\n",
    "plt.title('Heatmap of Daily Patterns')\n",
    "plt.xlabel('Hour of the Day')\n",
    "plt.ylabel('Pollutant')\n",
    "plt.show()\n"
   ]
  },
  {
   "cell_type": "code",
   "execution_count": null,
   "id": "9b96c01c",
   "metadata": {},
   "outputs": [],
   "source": [
    "\n",
    "# Line Graphs for Trends Over Time\n",
    "plt.figure(figsize=(14, 6))\n",
    "for column in ['CO(GT)', 'NMHC(GT)', 'NOx(GT)', 'NO2(GT)']:\n",
    "    df.resample('M')[column].mean().dropna().plot(label=column)  # Drop NA values before plotting\n",
    "plt.title('Trends Over Time')\n",
    "plt.xlabel('Time')\n",
    "plt.ylabel('Average Concentration')\n",
    "plt.legend()\n",
    "plt.show()"
   ]
  },
  {
   "cell_type": "code",
   "execution_count": null,
   "id": "f7df216b",
   "metadata": {},
   "outputs": [],
   "source": []
  }
 ],
 "metadata": {
  "kernelspec": {
   "display_name": "Python 3 (ipykernel)",
   "language": "python",
   "name": "python3"
  },
  "language_info": {
   "codemirror_mode": {
    "name": "ipython",
    "version": 3
   },
   "file_extension": ".py",
   "mimetype": "text/x-python",
   "name": "python",
   "nbconvert_exporter": "python",
   "pygments_lexer": "ipython3",
   "version": "3.11.4"
  }
 },
 "nbformat": 4,
 "nbformat_minor": 5
}

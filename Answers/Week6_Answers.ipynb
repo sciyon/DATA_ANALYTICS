{
 "cells": [
  {
   "cell_type": "markdown",
   "metadata": {},
   "source": [
    "Instructions:\n",
    "1. Choose a unique dataset from: https://archive.ics.uci.edu\n",
    "2. Your dataset should be unique from your classmates otherwise no points will be given for this exercise.\n",
    "### Complete the Tasks in bold"
   ]
  },
  {
   "cell_type": "markdown",
   "metadata": {},
   "source": [
    "## Data Exploration\n",
    "\n",
    "**TASK: Create a correlation heatmap.**"
   ]
  },
  {
   "cell_type": "markdown",
   "metadata": {},
   "source": [
    "**TASK: What are the top 5 correlated frequencies with the target\\label?**\n",
    "\n",
    "*Note: You many need to map the label to 0s and 1s.*\n",
    "\n",
    "*Additional Note: We're looking for **absolute** correlation values.*"
   ]
  },
  {
   "cell_type": "markdown",
   "metadata": {},
   "source": [
    "## Train | Test Split\n",
    "\n",
    "Our approach here will be one of using Cross Validation on 90% of the dataset, and then judging our results on a final test set of 10% to evaluate our model.\n",
    "\n",
    "**TASK: Split the data into features and labels, and then split into a training set and test set, with 90% for Cross-Validation training, and 10% for a final test set.**\n",
    "\n",
    "*Note: Do not forget to put a random_state for reproducibility.*"
   ]
  },
  {
   "cell_type": "markdown",
   "metadata": {},
   "source": [
    "**TASK: Create a PipeLine that contains both a StandardScaler and a KNN model**"
   ]
  },
  {
   "cell_type": "markdown",
   "metadata": {},
   "source": [
    "**TASK: Perform a grid-search with the pipeline to test various values of k and report back the best performing parameters.**"
   ]
  },
  {
   "cell_type": "markdown",
   "metadata": {},
   "source": [
    "**(HARD) TASK: Using the .cv_results_ dictionary, see if you can create a plot of the mean test scores per K value.**"
   ]
  },
  {
   "cell_type": "markdown",
   "metadata": {},
   "source": [
    "### Final Model Evaluation\n",
    "\n",
    "**TASK: Using the grid classifier object from the previous step, get a final performance classification report and confusion matrix.**"
   ]
  }
 ],
 "metadata": {
  "kernelspec": {
   "display_name": "Python 3 (ipykernel)",
   "language": "python",
   "name": "python3"
  },
  "language_info": {
   "codemirror_mode": {
    "name": "ipython",
    "version": 3
   },
   "file_extension": ".py",
   "mimetype": "text/x-python",
   "name": "python",
   "nbconvert_exporter": "python",
   "pygments_lexer": "ipython3",
   "version": "3.8.16"
  }
 },
 "nbformat": 4,
 "nbformat_minor": 4
}

{
 "cells": [
  {
   "cell_type": "markdown",
   "id": "56e278e3-177b-4c2d-a60e-4b21616bbcfb",
   "metadata": {},
   "source": [
    "# Instructions\n",
    "\n",
    "1. Choose a dataset from https://archive.ics.uci.edu/datasets.\n",
    "2. Your dataset should be unique to that of your classmate, so be sure to discuss with them, otherwise no points will be given into this assignment.\n",
    "3. "
   ]
  }
 ],
 "metadata": {
  "kernelspec": {
   "display_name": "Python 3 (ipykernel)",
   "language": "python",
   "name": "python3"
  },
  "language_info": {
   "codemirror_mode": {
    "name": "ipython",
    "version": 3
   },
   "file_extension": ".py",
   "mimetype": "text/x-python",
   "name": "python",
   "nbconvert_exporter": "python",
   "pygments_lexer": "ipython3",
   "version": "3.11.4"
  }
 },
 "nbformat": 4,
 "nbformat_minor": 5
}

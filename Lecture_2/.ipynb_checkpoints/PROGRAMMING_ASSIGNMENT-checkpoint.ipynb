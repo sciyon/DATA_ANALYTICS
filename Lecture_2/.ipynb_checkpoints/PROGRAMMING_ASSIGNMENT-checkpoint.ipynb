{
 "cells": [
  {
   "cell_type": "markdown",
   "id": "3144258a-27f4-4863-97e5-c589d71945b7",
   "metadata": {},
   "source": [
    "Data: https://archive.ics.uci.edu.\n",
    "\n",
    "Instruction: Choose a dataset and perform a data storytelling, choose the proper data visualization, do not use words, your graphs must tell a story."
   ]
  },
  {
   "cell_type": "code",
   "execution_count": null,
   "id": "803c4129-6333-4d12-8d4e-eaa76d697f16",
   "metadata": {},
   "outputs": [],
   "source": []
  }
 ],
 "metadata": {
  "kernelspec": {
   "display_name": "Python 3 (ipykernel)",
   "language": "python",
   "name": "python3"
  },
  "language_info": {
   "codemirror_mode": {
    "name": "ipython",
    "version": 3
   },
   "file_extension": ".py",
   "mimetype": "text/x-python",
   "name": "python",
   "nbconvert_exporter": "python",
   "pygments_lexer": "ipython3",
   "version": "3.11.4"
  }
 },
 "nbformat": 4,
 "nbformat_minor": 5
}

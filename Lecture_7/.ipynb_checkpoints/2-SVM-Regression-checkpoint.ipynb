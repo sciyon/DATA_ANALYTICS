{
 "cells": [
  {
   "cell_type": "markdown",
   "metadata": {},
   "source": [
    "# SVM - Regression\n",
    "---\n",
    "\n",
    "- Support Vector Regression (SVR) is an extension of the Support Vector Machine (SVM) concept to handle regression problems. Just as SVM aims to find the optimal separating hyperplane for classification, SVR attempts to find a function that has at most  deviation ,$\\epsilon$,  from the actually obtained targets $y$ for all the training data, and at the same time is as flat as possible.\n",
    "\n",
    "## Basic Concept\n",
    "\n",
    "- In SVR, instead of trying to find a hyperplane that separates two classes, the goal is to fit a hyperplane in a high-dimensional space that deviates from the actual continuous target values as little as possible for all training points, while remaining as flat as possible.\n",
    "\n",
    "## Linear SVM\n",
    "\n",
    "- The hyperplane can be described mathematically as:\n",
    "\\begin{equation}\n",
    "f(x) = w \\cdotp x+b\n",
    "\\end{equation}\n",
    "\n",
    "Where:\n",
    "\n",
    "$w$ is the weight vector perpendicular to the hyperplane.\n",
    "\n",
    "$x$ is the input data vector.\n",
    "\n",
    "$b$ is the bias term, shifting the hyperplane along the weight vector.\n",
    "\n",
    "## Objective and Constraints\n",
    "\n",
    "The objective in SVR is to minimize:\n",
    "\\begin{equation}\n",
    "min_{w,b}\\frac{1}{2}|||w||^2 + C \\cdotp \\Sigma_{i=1}^n (\\xi_i+\\xi_i^*)\n",
    "\\end{equation}\n",
    "\n",
    "Where $\\xi_i$ and $\\xi_i^*$ are slack variables that measure the deviation of samples that are above and below the insensitivity tube, $\\epsilon$. The constraints are:\n",
    "1. $y_i -(w \\cdotp x_{i}+b) \\leq \\epsilon+\\xi_i$\n",
    "2. $(w \\cdotp x_{i}+b)-y_i \\leq \\epsilon+\\xi_i^*$\n",
    "\n",
    "## Interpretation\n",
    "\n",
    "- $\\epsilon$ defines a tube within which predictions are considered acceptable (i.e., errors within this tube are ignored). The width of this tube is controlled by $\\epsilon$.\n",
    "- $C$ is the penalty parameter that controls the trade-off between the flatness of $𝑓(𝑥)$ and the amount up to which deviations larger than\n",
    "$\\epsilon$ are tolerated.\n",
    "\n",
    "## Non-linear SVR\n",
    "\n",
    "- For non-linear relationships, SVR uses the kernel trick to map input features into higher-dimensional feature spaces where linear regression can be performed. The kernel function replaces the dot product in the feature space, just like in SVM classification:\n",
    "\\begin{equation}\n",
    "f(x) = \\Sigma_i=1^N(\\alpha_i - \\alpha_i^*)\\mathbf{K}(x_i,x_j)+b\n",
    "\\end{equation}\n",
    "\n",
    "Note that:\n",
    "\n",
    "1.$ \\alpha_i$ and $\\alpha_i^*$ Lagrange multipliers of the optimization problem.\n",
    "\n",
    "2. $\\mathbf{K}(x_i,x_j)$ is the kernel function discussed in 1-SVM-Classification."
   ]
  },
  {
   "cell_type": "code",
   "execution_count": 1,
   "metadata": {},
   "outputs": [],
   "source": [
    "import numpy as np\n",
    "import pandas as pd\n",
    "import seaborn as sns\n",
    "import matplotlib.pyplot as plt\n",
    "from sklearn.datasets import make_regression"
   ]
  },
  {
   "cell_type": "code",
   "execution_count": 3,
   "metadata": {},
   "outputs": [],
   "source": [
    "X, y = make_regression(n_samples=1000, n_features=10, noise=1, random_state=42)"
   ]
  },
  {
   "cell_type": "code",
   "execution_count": 4,
   "metadata": {},
   "outputs": [
    {
     "data": {
      "text/html": [
       "<div>\n",
       "<style scoped>\n",
       "    .dataframe tbody tr th:only-of-type {\n",
       "        vertical-align: middle;\n",
       "    }\n",
       "\n",
       "    .dataframe tbody tr th {\n",
       "        vertical-align: top;\n",
       "    }\n",
       "\n",
       "    .dataframe thead th {\n",
       "        text-align: right;\n",
       "    }\n",
       "</style>\n",
       "<table border=\"1\" class=\"dataframe\">\n",
       "  <thead>\n",
       "    <tr style=\"text-align: right;\">\n",
       "      <th></th>\n",
       "      <th>X1</th>\n",
       "      <th>X2</th>\n",
       "      <th>X3</th>\n",
       "      <th>X4</th>\n",
       "      <th>X5</th>\n",
       "      <th>X6</th>\n",
       "      <th>X7</th>\n",
       "      <th>X8</th>\n",
       "      <th>X9</th>\n",
       "      <th>X10</th>\n",
       "      <th>Y</th>\n",
       "    </tr>\n",
       "  </thead>\n",
       "  <tbody>\n",
       "    <tr>\n",
       "      <th>0</th>\n",
       "      <td>1.575876</td>\n",
       "      <td>0.891863</td>\n",
       "      <td>-0.726774</td>\n",
       "      <td>-0.047799</td>\n",
       "      <td>-0.657035</td>\n",
       "      <td>-1.113295</td>\n",
       "      <td>-0.877617</td>\n",
       "      <td>0.994558</td>\n",
       "      <td>-0.299696</td>\n",
       "      <td>-0.761760</td>\n",
       "      <td>-62.604706</td>\n",
       "    </tr>\n",
       "    <tr>\n",
       "      <th>1</th>\n",
       "      <td>0.535459</td>\n",
       "      <td>1.266661</td>\n",
       "      <td>-1.779875</td>\n",
       "      <td>1.209010</td>\n",
       "      <td>-0.113158</td>\n",
       "      <td>-0.971062</td>\n",
       "      <td>1.064171</td>\n",
       "      <td>-0.555273</td>\n",
       "      <td>0.741320</td>\n",
       "      <td>-0.987523</td>\n",
       "      <td>107.537952</td>\n",
       "    </tr>\n",
       "    <tr>\n",
       "      <th>2</th>\n",
       "      <td>-0.686279</td>\n",
       "      <td>0.157128</td>\n",
       "      <td>0.145836</td>\n",
       "      <td>-1.432671</td>\n",
       "      <td>-0.666849</td>\n",
       "      <td>0.176190</td>\n",
       "      <td>0.585299</td>\n",
       "      <td>0.197917</td>\n",
       "      <td>-0.404362</td>\n",
       "      <td>-0.607472</td>\n",
       "      <td>-114.845161</td>\n",
       "    </tr>\n",
       "    <tr>\n",
       "      <th>3</th>\n",
       "      <td>0.925282</td>\n",
       "      <td>0.395914</td>\n",
       "      <td>0.676357</td>\n",
       "      <td>0.168651</td>\n",
       "      <td>1.574147</td>\n",
       "      <td>-0.117172</td>\n",
       "      <td>-0.037687</td>\n",
       "      <td>-0.345907</td>\n",
       "      <td>0.895796</td>\n",
       "      <td>-0.837381</td>\n",
       "      <td>37.578671</td>\n",
       "    </tr>\n",
       "    <tr>\n",
       "      <th>4</th>\n",
       "      <td>-0.558922</td>\n",
       "      <td>1.073632</td>\n",
       "      <td>1.565524</td>\n",
       "      <td>0.377212</td>\n",
       "      <td>0.132970</td>\n",
       "      <td>-1.026515</td>\n",
       "      <td>-0.065750</td>\n",
       "      <td>-0.700121</td>\n",
       "      <td>-1.523187</td>\n",
       "      <td>1.195047</td>\n",
       "      <td>132.104552</td>\n",
       "    </tr>\n",
       "    <tr>\n",
       "      <th>...</th>\n",
       "      <td>...</td>\n",
       "      <td>...</td>\n",
       "      <td>...</td>\n",
       "      <td>...</td>\n",
       "      <td>...</td>\n",
       "      <td>...</td>\n",
       "      <td>...</td>\n",
       "      <td>...</td>\n",
       "      <td>...</td>\n",
       "      <td>...</td>\n",
       "      <td>...</td>\n",
       "    </tr>\n",
       "    <tr>\n",
       "      <th>995</th>\n",
       "      <td>-0.197338</td>\n",
       "      <td>-0.054894</td>\n",
       "      <td>-0.194908</td>\n",
       "      <td>-0.151273</td>\n",
       "      <td>0.521122</td>\n",
       "      <td>0.285554</td>\n",
       "      <td>1.133770</td>\n",
       "      <td>0.645216</td>\n",
       "      <td>0.089581</td>\n",
       "      <td>0.555604</td>\n",
       "      <td>106.611546</td>\n",
       "    </tr>\n",
       "    <tr>\n",
       "      <th>996</th>\n",
       "      <td>-0.987866</td>\n",
       "      <td>1.597397</td>\n",
       "      <td>0.085513</td>\n",
       "      <td>0.723038</td>\n",
       "      <td>-0.654770</td>\n",
       "      <td>0.644690</td>\n",
       "      <td>-1.715708</td>\n",
       "      <td>-0.510608</td>\n",
       "      <td>0.320930</td>\n",
       "      <td>0.079915</td>\n",
       "      <td>-53.170620</td>\n",
       "    </tr>\n",
       "    <tr>\n",
       "      <th>997</th>\n",
       "      <td>0.427963</td>\n",
       "      <td>-0.833598</td>\n",
       "      <td>1.639257</td>\n",
       "      <td>1.723075</td>\n",
       "      <td>-0.795970</td>\n",
       "      <td>-0.679889</td>\n",
       "      <td>-1.922772</td>\n",
       "      <td>0.191890</td>\n",
       "      <td>-0.555286</td>\n",
       "      <td>-0.160560</td>\n",
       "      <td>-5.974242</td>\n",
       "    </tr>\n",
       "    <tr>\n",
       "      <th>998</th>\n",
       "      <td>-0.273729</td>\n",
       "      <td>-1.380599</td>\n",
       "      <td>0.149598</td>\n",
       "      <td>-0.014270</td>\n",
       "      <td>-0.257620</td>\n",
       "      <td>-0.436155</td>\n",
       "      <td>0.097827</td>\n",
       "      <td>-0.069633</td>\n",
       "      <td>-0.683634</td>\n",
       "      <td>0.689164</td>\n",
       "      <td>-13.552752</td>\n",
       "    </tr>\n",
       "    <tr>\n",
       "      <th>999</th>\n",
       "      <td>0.537630</td>\n",
       "      <td>0.379153</td>\n",
       "      <td>-0.279993</td>\n",
       "      <td>0.428186</td>\n",
       "      <td>-0.596974</td>\n",
       "      <td>1.230222</td>\n",
       "      <td>-1.279031</td>\n",
       "      <td>-2.390304</td>\n",
       "      <td>0.913474</td>\n",
       "      <td>-0.412221</td>\n",
       "      <td>-75.582755</td>\n",
       "    </tr>\n",
       "  </tbody>\n",
       "</table>\n",
       "<p>1000 rows × 11 columns</p>\n",
       "</div>"
      ],
      "text/plain": [
       "           X1        X2        X3        X4        X5        X6        X7  \\\n",
       "0    1.575876  0.891863 -0.726774 -0.047799 -0.657035 -1.113295 -0.877617   \n",
       "1    0.535459  1.266661 -1.779875  1.209010 -0.113158 -0.971062  1.064171   \n",
       "2   -0.686279  0.157128  0.145836 -1.432671 -0.666849  0.176190  0.585299   \n",
       "3    0.925282  0.395914  0.676357  0.168651  1.574147 -0.117172 -0.037687   \n",
       "4   -0.558922  1.073632  1.565524  0.377212  0.132970 -1.026515 -0.065750   \n",
       "..        ...       ...       ...       ...       ...       ...       ...   \n",
       "995 -0.197338 -0.054894 -0.194908 -0.151273  0.521122  0.285554  1.133770   \n",
       "996 -0.987866  1.597397  0.085513  0.723038 -0.654770  0.644690 -1.715708   \n",
       "997  0.427963 -0.833598  1.639257  1.723075 -0.795970 -0.679889 -1.922772   \n",
       "998 -0.273729 -1.380599  0.149598 -0.014270 -0.257620 -0.436155  0.097827   \n",
       "999  0.537630  0.379153 -0.279993  0.428186 -0.596974  1.230222 -1.279031   \n",
       "\n",
       "           X8        X9       X10           Y  \n",
       "0    0.994558 -0.299696 -0.761760  -62.604706  \n",
       "1   -0.555273  0.741320 -0.987523  107.537952  \n",
       "2    0.197917 -0.404362 -0.607472 -114.845161  \n",
       "3   -0.345907  0.895796 -0.837381   37.578671  \n",
       "4   -0.700121 -1.523187  1.195047  132.104552  \n",
       "..        ...       ...       ...         ...  \n",
       "995  0.645216  0.089581  0.555604  106.611546  \n",
       "996 -0.510608  0.320930  0.079915  -53.170620  \n",
       "997  0.191890 -0.555286 -0.160560   -5.974242  \n",
       "998 -0.069633 -0.683634  0.689164  -13.552752  \n",
       "999 -2.390304  0.913474 -0.412221  -75.582755  \n",
       "\n",
       "[1000 rows x 11 columns]"
      ]
     },
     "execution_count": 4,
     "metadata": {},
     "output_type": "execute_result"
    }
   ],
   "source": [
    "df = pd.DataFrame(X, columns=[\"X1\",\"X2\",\"X3\",\"X4\",\"X5\",\"X6\",\"X7\",\"X8\",\"X9\",\"X10\"])\n",
    "df[\"Y\"] = y\n",
    "df"
   ]
  },
  {
   "cell_type": "code",
   "execution_count": 5,
   "metadata": {},
   "outputs": [
    {
     "data": {
      "text/plain": [
       "X1     0.196095\n",
       "X2     0.193735\n",
       "X3     0.235093\n",
       "X4     0.574168\n",
       "X5     0.061158\n",
       "X6     0.115419\n",
       "X7     0.530854\n",
       "X8     0.098289\n",
       "X9     0.015214\n",
       "X10    0.456147\n",
       "Y      1.000000\n",
       "Name: Y, dtype: float64"
      ]
     },
     "execution_count": 5,
     "metadata": {},
     "output_type": "execute_result"
    }
   ],
   "source": [
    "df.corr()['Y']"
   ]
  },
  {
   "cell_type": "code",
   "execution_count": 6,
   "metadata": {},
   "outputs": [
    {
     "data": {
      "text/plain": [
       "<Axes: >"
      ]
     },
     "execution_count": 6,
     "metadata": {},
     "output_type": "execute_result"
    },
    {
     "data": {
      "image/png": "[encoded data removed]",
      "text/plain": [
       "<Figure size 640x480 with 2 Axes>"
      ]
     },
     "metadata": {},
     "output_type": "display_data"
    }
   ],
   "source": [
    "sns.heatmap(df.corr(),cmap='viridis')"
   ]
  },
  {
   "cell_type": "markdown",
   "metadata": {},
   "source": [
    "## Train | Test Split\n",
    "\n",
    "Alternatively you could also set this up as a pipline, something like:\n",
    "\n",
    "    >>> from sklearn.pipeline import make_pipeline\n",
    "    >>> from sklearn.preprocessing import StandardScaler\n",
    "    >>> from sklearn.svm import SVR\n",
    "\n",
    "    >>> clf = make_pipeline(StandardScaler(), SVR())"
   ]
  },
  {
   "cell_type": "code",
   "execution_count": 7,
   "metadata": {},
   "outputs": [
    {
     "data": {
      "text/plain": [
       "Index(['X1', 'X2', 'X3', 'X4', 'X5', 'X6', 'X7', 'X8', 'X9', 'X10', 'Y'], dtype='object')"
      ]
     },
     "execution_count": 7,
     "metadata": {},
     "output_type": "execute_result"
    }
   ],
   "source": [
    "df.columns"
   ]
  },
  {
   "cell_type": "code",
   "execution_count": 10,
   "metadata": {},
   "outputs": [],
   "source": [
    "X = df.drop('Y',axis=1)\n",
    "y = df['Y']"
   ]
  },
  {
   "cell_type": "code",
   "execution_count": 11,
   "metadata": {},
   "outputs": [],
   "source": [
    "from sklearn.model_selection import train_test_split"
   ]
  },
  {
   "cell_type": "code",
   "execution_count": 12,
   "metadata": {},
   "outputs": [],
   "source": [
    "X_train, X_test, y_train, y_test = train_test_split(X, y, test_size=0.3, random_state=101)"
   ]
  },
  {
   "cell_type": "code",
   "execution_count": 13,
   "metadata": {},
   "outputs": [],
   "source": [
    "from sklearn.preprocessing import StandardScaler"
   ]
  },
  {
   "cell_type": "code",
   "execution_count": 14,
   "metadata": {},
   "outputs": [],
   "source": [
    "scaler = StandardScaler()"
   ]
  },
  {
   "cell_type": "code",
   "execution_count": 15,
   "metadata": {},
   "outputs": [],
   "source": [
    "scaled_X_train = scaler.fit_transform(X_train)\n",
    "scaled_X_test = scaler.transform(X_test)"
   ]
  },
  {
   "cell_type": "markdown",
   "metadata": {},
   "source": [
    "## Support Vector Machines - Regression\n",
    "\n",
    "There are three different implementations of Support Vector Regression: SVR, NuSVR and LinearSVR. LinearSVR provides a faster implementation than SVR but only considers the linear kernel, while NuSVR implements a slightly different formulation than SVR and LinearSVR. See [Implementation details](https://scikit-learn.org/stable/modules/svm.html#svm-implementation-details) for further details."
   ]
  },
  {
   "cell_type": "code",
   "execution_count": 16,
   "metadata": {},
   "outputs": [],
   "source": [
    "from sklearn.svm import SVR,LinearSVR"
   ]
  },
  {
   "cell_type": "markdown",
   "metadata": {},
   "source": [
    "Setting C: C is 1 by default and it’s a reasonable default choice. If you have a lot of noisy observations you should decrease it: decreasing C corresponds to more regularization.\n",
    "\n",
    "LinearSVC and LinearSVR are less sensitive to C when it becomes large, and prediction results stop improving after a certain threshold. Meanwhile, larger C values will take more time to train, sometimes up to 10 times longer\n",
    "\n",
    "Epsilon: https://stats.stackexchange.com/questions/259018/meaning-of-epsilon-in-svm-regression"
   ]
  },
  {
   "cell_type": "code",
   "execution_count": 17,
   "metadata": {},
   "outputs": [],
   "source": [
    "base_model = SVR()"
   ]
  },
  {
   "cell_type": "code",
   "execution_count": 18,
   "metadata": {},
   "outputs": [
    {
     "data": {
      "text/html": [
       "<style>#sk-container-id-1 {color: black;background-color: white;}#sk-container-id-1 pre{padding: 0;}#sk-container-id-1 div.sk-toggleable {background-color: white;}#sk-container-id-1 label.sk-toggleable__label {cursor: pointer;display: block;width: 100%;margin-bottom: 0;padding: 0.3em;box-sizing: border-box;text-align: center;}#sk-container-id-1 label.sk-toggleable__label-arrow:before {content: \"▸\";float: left;margin-right: 0.25em;color: #696969;}#sk-container-id-1 label.sk-toggleable__label-arrow:hover:before {color: black;}#sk-container-id-1 div.sk-estimator:hover label.sk-toggleable__label-arrow:before {color: black;}#sk-container-id-1 div.sk-toggleable__content {max-height: 0;max-width: 0;overflow: hidden;text-align: left;background-color: #f0f8ff;}#sk-container-id-1 div.sk-toggleable__content pre {margin: 0.2em;color: black;border-radius: 0.25em;background-color: #f0f8ff;}#sk-container-id-1 input.sk-toggleable__control:checked~div.sk-toggleable__content {max-height: 200px;max-width: 100%;overflow: auto;}#sk-container-id-1 input.sk-toggleable__control:checked~label.sk-toggleable__label-arrow:before {content: \"▾\";}#sk-container-id-1 div.sk-estimator input.sk-toggleable__control:checked~label.sk-toggleable__label {background-color: #d4ebff;}#sk-container-id-1 div.sk-label input.sk-toggleable__control:checked~label.sk-toggleable__label {background-color: #d4ebff;}#sk-container-id-1 input.sk-hidden--visually {border: 0;clip: rect(1px 1px 1px 1px);clip: rect(1px, 1px, 1px, 1px);height: 1px;margin: -1px;overflow: hidden;padding: 0;position: absolute;width: 1px;}#sk-container-id-1 div.sk-estimator {font-family: monospace;background-color: #f0f8ff;border: 1px dotted black;border-radius: 0.25em;box-sizing: border-box;margin-bottom: 0.5em;}#sk-container-id-1 div.sk-estimator:hover {background-color: #d4ebff;}#sk-container-id-1 div.sk-parallel-item::after {content: \"\";width: 100%;border-bottom: 1px solid gray;flex-grow: 1;}#sk-container-id-1 div.sk-label:hover label.sk-toggleable__label {background-color: #d4ebff;}#sk-container-id-1 div.sk-serial::before {content: \"\";position: absolute;border-left: 1px solid gray;box-sizing: border-box;top: 0;bottom: 0;left: 50%;z-index: 0;}#sk-container-id-1 div.sk-serial {display: flex;flex-direction: column;align-items: center;background-color: white;padding-right: 0.2em;padding-left: 0.2em;position: relative;}#sk-container-id-1 div.sk-item {position: relative;z-index: 1;}#sk-container-id-1 div.sk-parallel {display: flex;align-items: stretch;justify-content: center;background-color: white;position: relative;}#sk-container-id-1 div.sk-item::before, #sk-container-id-1 div.sk-parallel-item::before {content: \"\";position: absolute;border-left: 1px solid gray;box-sizing: border-box;top: 0;bottom: 0;left: 50%;z-index: -1;}#sk-container-id-1 div.sk-parallel-item {display: flex;flex-direction: column;z-index: 1;position: relative;background-color: white;}#sk-container-id-1 div.sk-parallel-item:first-child::after {align-self: flex-end;width: 50%;}#sk-container-id-1 div.sk-parallel-item:last-child::after {align-self: flex-start;width: 50%;}#sk-container-id-1 div.sk-parallel-item:only-child::after {width: 0;}#sk-container-id-1 div.sk-dashed-wrapped {border: 1px dashed gray;margin: 0 0.4em 0.5em 0.4em;box-sizing: border-box;padding-bottom: 0.4em;background-color: white;}#sk-container-id-1 div.sk-label label {font-family: monospace;font-weight: bold;display: inline-block;line-height: 1.2em;}#sk-container-id-1 div.sk-label-container {text-align: center;}#sk-container-id-1 div.sk-container {/* jupyter's `normalize.less` sets `[hidden] { display: none; }` but bootstrap.min.css set `[hidden] { display: none !important; }` so we also need the `!important` here to be able to override the default hidden behavior on the sphinx rendered scikit-learn.org. See: https://github.com/scikit-learn/scikit-learn/issues/21755 */display: inline-block !important;position: relative;}#sk-container-id-1 div.sk-text-repr-fallback {display: none;}</style><div id=\"sk-container-id-1\" class=\"sk-top-container\"><div class=\"sk-text-repr-fallback\"><pre>SVR()</pre><b>In a Jupyter environment, please rerun this cell to show the HTML representation or trust the notebook. <br />On GitHub, the HTML representation is unable to render, please try loading this page with nbviewer.org.</b></div><div class=\"sk-container\" hidden><div class=\"sk-item\"><div class=\"sk-estimator sk-toggleable\"><input class=\"sk-toggleable__control sk-hidden--visually\" id=\"sk-estimator-id-1\" type=\"checkbox\" checked><label for=\"sk-estimator-id-1\" class=\"sk-toggleable__label sk-toggleable__label-arrow\">SVR</label><div class=\"sk-toggleable__content\"><pre>SVR()</pre></div></div></div></div></div>"
      ],
      "text/plain": [
       "SVR()"
      ]
     },
     "execution_count": 18,
     "metadata": {},
     "output_type": "execute_result"
    }
   ],
   "source": [
    "base_model.fit(scaled_X_train,y_train)"
   ]
  },
  {
   "cell_type": "code",
   "execution_count": 19,
   "metadata": {},
   "outputs": [],
   "source": [
    "base_preds = base_model.predict(scaled_X_test)"
   ]
  },
  {
   "cell_type": "markdown",
   "metadata": {},
   "source": [
    "## Evaluation"
   ]
  },
  {
   "cell_type": "code",
   "execution_count": 20,
   "metadata": {},
   "outputs": [],
   "source": [
    "from sklearn.metrics import mean_absolute_error,mean_squared_error"
   ]
  },
  {
   "cell_type": "code",
   "execution_count": 21,
   "metadata": {},
   "outputs": [
    {
     "data": {
      "text/plain": [
       "90.10997639302022"
      ]
     },
     "execution_count": 21,
     "metadata": {},
     "output_type": "execute_result"
    }
   ],
   "source": [
    "mean_absolute_error(y_test,base_preds)"
   ]
  },
  {
   "cell_type": "code",
   "execution_count": 22,
   "metadata": {},
   "outputs": [
    {
     "data": {
      "text/plain": [
       "115.13683456186456"
      ]
     },
     "execution_count": 22,
     "metadata": {},
     "output_type": "execute_result"
    }
   ],
   "source": [
    "np.sqrt(mean_squared_error(y_test,base_preds))"
   ]
  },
  {
   "cell_type": "code",
   "execution_count": 23,
   "metadata": {},
   "outputs": [
    {
     "data": {
      "text/plain": [
       "-4.104777371981597"
      ]
     },
     "execution_count": 23,
     "metadata": {},
     "output_type": "execute_result"
    }
   ],
   "source": [
    "y_test.mean()"
   ]
  },
  {
   "cell_type": "markdown",
   "metadata": {},
   "source": [
    "## Grid Search in Attempt for Better Model"
   ]
  },
  {
   "cell_type": "code",
   "execution_count": 24,
   "metadata": {},
   "outputs": [],
   "source": [
    "param_grid = {'C':[0.001,0.01,0.1,0.5,1],\n",
    "             'kernel':['linear','rbf','poly'],\n",
    "              'gamma':['scale','auto'],\n",
    "              'degree':[2,3,4],\n",
    "              'epsilon':[0,0.01,0.1,0.5,1,2]}"
   ]
  },
  {
   "cell_type": "code",
   "execution_count": 25,
   "metadata": {},
   "outputs": [],
   "source": [
    "from sklearn.model_selection import GridSearchCV"
   ]
  },
  {
   "cell_type": "code",
   "execution_count": 26,
   "metadata": {},
   "outputs": [],
   "source": [
    "svr = SVR()\n",
    "grid = GridSearchCV(svr,param_grid=param_grid)"
   ]
  },
  {
   "cell_type": "code",
   "execution_count": 27,
   "metadata": {},
   "outputs": [
    {
     "data": {
      "text/html": [
       "<style>#sk-container-id-2 {color: black;background-color: white;}#sk-container-id-2 pre{padding: 0;}#sk-container-id-2 div.sk-toggleable {background-color: white;}#sk-container-id-2 label.sk-toggleable__label {cursor: pointer;display: block;width: 100%;margin-bottom: 0;padding: 0.3em;box-sizing: border-box;text-align: center;}#sk-container-id-2 label.sk-toggleable__label-arrow:before {content: \"▸\";float: left;margin-right: 0.25em;color: #696969;}#sk-container-id-2 label.sk-toggleable__label-arrow:hover:before {color: black;}#sk-container-id-2 div.sk-estimator:hover label.sk-toggleable__label-arrow:before {color: black;}#sk-container-id-2 div.sk-toggleable__content {max-height: 0;max-width: 0;overflow: hidden;text-align: left;background-color: #f0f8ff;}#sk-container-id-2 div.sk-toggleable__content pre {margin: 0.2em;color: black;border-radius: 0.25em;background-color: #f0f8ff;}#sk-container-id-2 input.sk-toggleable__control:checked~div.sk-toggleable__content {max-height: 200px;max-width: 100%;overflow: auto;}#sk-container-id-2 input.sk-toggleable__control:checked~label.sk-toggleable__label-arrow:before {content: \"▾\";}#sk-container-id-2 div.sk-estimator input.sk-toggleable__control:checked~label.sk-toggleable__label {background-color: #d4ebff;}#sk-container-id-2 div.sk-label input.sk-toggleable__control:checked~label.sk-toggleable__label {background-color: #d4ebff;}#sk-container-id-2 input.sk-hidden--visually {border: 0;clip: rect(1px 1px 1px 1px);clip: rect(1px, 1px, 1px, 1px);height: 1px;margin: -1px;overflow: hidden;padding: 0;position: absolute;width: 1px;}#sk-container-id-2 div.sk-estimator {font-family: monospace;background-color: #f0f8ff;border: 1px dotted black;border-radius: 0.25em;box-sizing: border-box;margin-bottom: 0.5em;}#sk-container-id-2 div.sk-estimator:hover {background-color: #d4ebff;}#sk-container-id-2 div.sk-parallel-item::after {content: \"\";width: 100%;border-bottom: 1px solid gray;flex-grow: 1;}#sk-container-id-2 div.sk-label:hover label.sk-toggleable__label {background-color: #d4ebff;}#sk-container-id-2 div.sk-serial::before {content: \"\";position: absolute;border-left: 1px solid gray;box-sizing: border-box;top: 0;bottom: 0;left: 50%;z-index: 0;}#sk-container-id-2 div.sk-serial {display: flex;flex-direction: column;align-items: center;background-color: white;padding-right: 0.2em;padding-left: 0.2em;position: relative;}#sk-container-id-2 div.sk-item {position: relative;z-index: 1;}#sk-container-id-2 div.sk-parallel {display: flex;align-items: stretch;justify-content: center;background-color: white;position: relative;}#sk-container-id-2 div.sk-item::before, #sk-container-id-2 div.sk-parallel-item::before {content: \"\";position: absolute;border-left: 1px solid gray;box-sizing: border-box;top: 0;bottom: 0;left: 50%;z-index: -1;}#sk-container-id-2 div.sk-parallel-item {display: flex;flex-direction: column;z-index: 1;position: relative;background-color: white;}#sk-container-id-2 div.sk-parallel-item:first-child::after {align-self: flex-end;width: 50%;}#sk-container-id-2 div.sk-parallel-item:last-child::after {align-self: flex-start;width: 50%;}#sk-container-id-2 div.sk-parallel-item:only-child::after {width: 0;}#sk-container-id-2 div.sk-dashed-wrapped {border: 1px dashed gray;margin: 0 0.4em 0.5em 0.4em;box-sizing: border-box;padding-bottom: 0.4em;background-color: white;}#sk-container-id-2 div.sk-label label {font-family: monospace;font-weight: bold;display: inline-block;line-height: 1.2em;}#sk-container-id-2 div.sk-label-container {text-align: center;}#sk-container-id-2 div.sk-container {/* jupyter's `normalize.less` sets `[hidden] { display: none; }` but bootstrap.min.css set `[hidden] { display: none !important; }` so we also need the `!important` here to be able to override the default hidden behavior on the sphinx rendered scikit-learn.org. See: https://github.com/scikit-learn/scikit-learn/issues/21755 */display: inline-block !important;position: relative;}#sk-container-id-2 div.sk-text-repr-fallback {display: none;}</style><div id=\"sk-container-id-2\" class=\"sk-top-container\"><div class=\"sk-text-repr-fallback\"><pre>GridSearchCV(estimator=SVR(),\n",
       "             param_grid={&#x27;C&#x27;: [0.001, 0.01, 0.1, 0.5, 1], &#x27;degree&#x27;: [2, 3, 4],\n",
       "                         &#x27;epsilon&#x27;: [0, 0.01, 0.1, 0.5, 1, 2],\n",
       "                         &#x27;gamma&#x27;: [&#x27;scale&#x27;, &#x27;auto&#x27;],\n",
       "                         &#x27;kernel&#x27;: [&#x27;linear&#x27;, &#x27;rbf&#x27;, &#x27;poly&#x27;]})</pre><b>In a Jupyter environment, please rerun this cell to show the HTML representation or trust the notebook. <br />On GitHub, the HTML representation is unable to render, please try loading this page with nbviewer.org.</b></div><div class=\"sk-container\" hidden><div class=\"sk-item sk-dashed-wrapped\"><div class=\"sk-label-container\"><div class=\"sk-label sk-toggleable\"><input class=\"sk-toggleable__control sk-hidden--visually\" id=\"sk-estimator-id-2\" type=\"checkbox\" ><label for=\"sk-estimator-id-2\" class=\"sk-toggleable__label sk-toggleable__label-arrow\">GridSearchCV</label><div class=\"sk-toggleable__content\"><pre>GridSearchCV(estimator=SVR(),\n",
       "             param_grid={&#x27;C&#x27;: [0.001, 0.01, 0.1, 0.5, 1], &#x27;degree&#x27;: [2, 3, 4],\n",
       "                         &#x27;epsilon&#x27;: [0, 0.01, 0.1, 0.5, 1, 2],\n",
       "                         &#x27;gamma&#x27;: [&#x27;scale&#x27;, &#x27;auto&#x27;],\n",
       "                         &#x27;kernel&#x27;: [&#x27;linear&#x27;, &#x27;rbf&#x27;, &#x27;poly&#x27;]})</pre></div></div></div><div class=\"sk-parallel\"><div class=\"sk-parallel-item\"><div class=\"sk-item\"><div class=\"sk-label-container\"><div class=\"sk-label sk-toggleable\"><input class=\"sk-toggleable__control sk-hidden--visually\" id=\"sk-estimator-id-3\" type=\"checkbox\" ><label for=\"sk-estimator-id-3\" class=\"sk-toggleable__label sk-toggleable__label-arrow\">estimator: SVR</label><div class=\"sk-toggleable__content\"><pre>SVR()</pre></div></div></div><div class=\"sk-serial\"><div class=\"sk-item\"><div class=\"sk-estimator sk-toggleable\"><input class=\"sk-toggleable__control sk-hidden--visually\" id=\"sk-estimator-id-4\" type=\"checkbox\" ><label for=\"sk-estimator-id-4\" class=\"sk-toggleable__label sk-toggleable__label-arrow\">SVR</label><div class=\"sk-toggleable__content\"><pre>SVR()</pre></div></div></div></div></div></div></div></div></div></div>"
      ],
      "text/plain": [
       "GridSearchCV(estimator=SVR(),\n",
       "             param_grid={'C': [0.001, 0.01, 0.1, 0.5, 1], 'degree': [2, 3, 4],\n",
       "                         'epsilon': [0, 0.01, 0.1, 0.5, 1, 2],\n",
       "                         'gamma': ['scale', 'auto'],\n",
       "                         'kernel': ['linear', 'rbf', 'poly']})"
      ]
     },
     "execution_count": 27,
     "metadata": {},
     "output_type": "execute_result"
    }
   ],
   "source": [
    "grid.fit(scaled_X_train,y_train)"
   ]
  },
  {
   "cell_type": "code",
   "execution_count": 28,
   "metadata": {},
   "outputs": [
    {
     "data": {
      "text/plain": [
       "{'C': 1, 'degree': 2, 'epsilon': 0.01, 'gamma': 'scale', 'kernel': 'linear'}"
      ]
     },
     "execution_count": 28,
     "metadata": {},
     "output_type": "execute_result"
    }
   ],
   "source": [
    "grid.best_params_"
   ]
  },
  {
   "cell_type": "code",
   "execution_count": 29,
   "metadata": {},
   "outputs": [],
   "source": [
    "grid_preds = grid.predict(scaled_X_test)"
   ]
  },
  {
   "cell_type": "code",
   "execution_count": 30,
   "metadata": {},
   "outputs": [
    {
     "data": {
      "text/plain": [
       "0.8252397182326967"
      ]
     },
     "execution_count": 30,
     "metadata": {},
     "output_type": "execute_result"
    }
   ],
   "source": [
    "mean_absolute_error(y_test,grid_preds)"
   ]
  },
  {
   "cell_type": "code",
   "execution_count": 31,
   "metadata": {},
   "outputs": [
    {
     "data": {
      "text/plain": [
       "1.0137169311803025"
      ]
     },
     "execution_count": 31,
     "metadata": {},
     "output_type": "execute_result"
    }
   ],
   "source": [
    "np.sqrt(mean_squared_error(y_test,grid_preds))"
   ]
  },
  {
   "cell_type": "markdown",
   "metadata": {},
   "source": [
    "Great improvement!"
   ]
  },
  {
   "cell_type": "code",
   "execution_count": null,
   "metadata": {},
   "outputs": [],
   "source": []
  }
 ],
 "metadata": {
  "anaconda-cloud": {},
  "kernelspec": {
   "display_name": "Python 3 (ipykernel)",
   "language": "python",
   "name": "python3"
  },
  "language_info": {
   "codemirror_mode": {
    "name": "ipython",
    "version": 3
   },
   "file_extension": ".py",
   "mimetype": "text/x-python",
   "name": "python",
   "nbconvert_exporter": "python",
   "pygments_lexer": "ipython3",
   "version": "3.11.4"
  }
 },
 "nbformat": 4,
 "nbformat_minor": 4
}
